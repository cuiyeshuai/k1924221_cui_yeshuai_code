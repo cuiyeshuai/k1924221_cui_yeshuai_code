{
 "cells": [
  {
   "cell_type": "code",
   "execution_count": null,
   "metadata": {},
   "outputs": [],
   "source": [
    "from functions import *\n",
    "import collections\n",
    "import os\n",
    "import time\n",
    "forward = False\n",
    "iri = False\n",
    "specific_types_edge = False\n",
    "specific_types_node = False\n",
    "level = 4\n",
    "\n",
    "qualified_names = {\n",
    "    \"xsd:QName\",\n",
    "    \"prov:QUALIFIED_NAME\"\n",
    "}\n",
    "path_to_json = '.../datasets/CM-Buildings/'\n",
    "json_file = '.../datasets/CM-Buildings/Building729.0.json'"
   ]
  },
  {
   "cell_type": "code",
   "execution_count": null,
   "metadata": {},
   "outputs": [],
   "source": [
    "start1 = time.time()\n",
    "for i in range(20):\n",
    "    for file_name in [file for file in os.listdir(path_to_json) if file.endswith('.json')]:\n",
    "        with open(path_to_json + file_name) as json_file:\n",
    "            data = json_file.read()\n",
    "            prov = json_to_encoding(data, iri = iri, forward = True, qualified_names = qualified_names)\n",
    "            prov_type = type_generate(prov, level = 5, specific_labels_edge = True, specific_labels_node = True)\n",
    "end1 = time.time()-start1\n",
    "start2 = time.time()\n",
    "for i in range(20):\n",
    "    for file_name in [file for file in os.listdir(path_to_json) if file.endswith('.json')]:\n",
    "        with open(path_to_json + file_name) as json_file:\n",
    "            data = json_file.read()\n",
    "            prov = json_to_encoding(data, iri = iri, forward = False, qualified_names = qualified_names)\n",
    "            prov_type = type_generate_R(prov, level = 5, specific_labels_edge = True, specific_labels_node = True)\n",
    "end2 = time.time()-start2\n",
    "print(end1,end2)"
   ]
  },
  {
   "cell_type": "code",
   "execution_count": null,
   "metadata": {},
   "outputs": [],
   "source": [
    "map = collections.defaultdict(lambda: collections.defaultdict(dict))\n",
    "for level in range(7):\n",
    "    for specific_labels_edge in [True, False]:\n",
    "        for specific_labels_node in [True, False]:\n",
    "            start = time.time()\n",
    "            for file_name in [file for file in os.listdir(path_to_json) if file.endswith('.json')]:\n",
    "                with open(path_to_json + file_name) as json_file:\n",
    "                    data = json_file.read()\n",
    "                    prov = json_to_encoding(data, iri = iri, forward = forward, qualified_names = qualified_names)\n",
    "                    for i in range(10):\n",
    "                        prov_type = type_generate_R(prov, level = level, specific_labels_node = specific_labels_node, specific_labels_edge= specific_labels_edge)\n",
    "            map[level][specific_labels_edge][specific_labels_node] = time.time() - start\n",
    "            print(time.time() - start)\n",
    "            print(level, specific_labels_edge, specific_labels_node)\n",
    "print(map)"
   ]
  },
  {
   "cell_type": "code",
   "execution_count": null,
   "metadata": {},
   "outputs": [],
   "source": [
    "start = time.time()\n",
    "for i in range(20):\n",
    "    for file_name in [file for file in os.listdir(path_to_json) if file.endswith('.json')]:\n",
    "        with open(path_to_json + file_name) as json_file:\n",
    "            data = json_file.read()\n",
    "            prov = json_to_encoding(data, iri = iri, forward = forward, qualified_names = qualified_names)\n",
    "end1 = time.time()-start\n",
    "start = time.time()\n",
    "for i in range(20):\n",
    "    for file_name in [file for file in os.listdir(path_to_json) if file.endswith('.json')]:\n",
    "        with open(path_to_json + file_name) as json_file:\n",
    "            data = json_file.read()\n",
    "            prov = document_to_encoding(ProvDocument.deserialize(content=data), iri = iri, forward = forward)\n",
    "end2 = time.time()-start\n",
    "print(end1,end2)"
   ]
  }
 ],
 "metadata": {
  "interpreter": {
   "hash": "31f2aee4e71d21fbe5cf8b01ff0e069b9275f58929596ceb00d14d90e3e16cd6"
  },
  "kernelspec": {
   "display_name": "Python 3.8.9 64-bit",
   "language": "python",
   "name": "python3"
  },
  "language_info": {
   "codemirror_mode": {
    "name": "ipython",
    "version": 3
   },
   "file_extension": ".py",
   "mimetype": "text/x-python",
   "name": "python",
   "nbconvert_exporter": "python",
   "pygments_lexer": "ipython3",
   "version": "3.8.9"
  },
  "orig_nbformat": 4
 },
 "nbformat": 4,
 "nbformat_minor": 2
}
